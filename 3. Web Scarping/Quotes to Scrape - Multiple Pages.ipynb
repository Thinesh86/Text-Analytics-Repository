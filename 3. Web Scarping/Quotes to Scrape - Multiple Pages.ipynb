{
 "cells": [
  {
   "cell_type": "code",
   "execution_count": 1,
   "id": "d917b4ce",
   "metadata": {},
   "outputs": [],
   "source": [
    "import requests"
   ]
  },
  {
   "cell_type": "code",
   "execution_count": 2,
   "id": "6fbd43ce",
   "metadata": {},
   "outputs": [],
   "source": [
    "from bs4 import BeautifulSoup"
   ]
  },
  {
   "cell_type": "code",
   "execution_count": 3,
   "id": "7611bd4e",
   "metadata": {},
   "outputs": [],
   "source": [
    "import csv"
   ]
  },
  {
   "cell_type": "code",
   "execution_count": 4,
   "id": "7b347c38",
   "metadata": {},
   "outputs": [],
   "source": [
    "def scrape_page(soup, quotes):\n",
    "    for quote in soup.find_all('div', class_='quote'):\n",
    "        text = quote.find('span', class_='text').text\n",
    "        author = quote.find('small', class_='author').text\n",
    "        tags = ', '.join(tag.text for tag in quote.find_all('a', class_='tag'))\n",
    "        quotes.append({'Text': text, 'Author': author, 'Tags': tags})"
   ]
  },
  {
   "cell_type": "code",
   "execution_count": 5,
   "id": "ad2228cd",
   "metadata": {},
   "outputs": [],
   "source": [
    "# Base URL and headers\n",
    "base_url = 'https://quotes.toscrape.com'"
   ]
  },
  {
   "cell_type": "code",
   "execution_count": 6,
   "id": "9a06e0db",
   "metadata": {},
   "outputs": [],
   "source": [
    "quotes = []"
   ]
  },
  {
   "cell_type": "code",
   "execution_count": 7,
   "id": "893e86c5",
   "metadata": {},
   "outputs": [],
   "source": [
    "def scrape_all_pages(url):\n",
    "    while url:\n",
    "        response = requests.get(url)\n",
    "        soup = BeautifulSoup(response.text, 'html.parser')\n",
    "        scrape_page(soup, quotes)\n",
    "        next_page = soup.find('li', class_='next')\n",
    "        url = base_url + next_page.find('a')['href'] if next_page else None"
   ]
  },
  {
   "cell_type": "code",
   "execution_count": 8,
   "id": "8e074639",
   "metadata": {},
   "outputs": [],
   "source": [
    "# Scrape quotes from all pages\n",
    "scrape_all_pages(base_url)"
   ]
  },
  {
   "cell_type": "code",
   "execution_count": 9,
   "id": "71e6b00e",
   "metadata": {},
   "outputs": [],
   "source": [
    "# Save quotes to CSV file\n",
    "with open('quotes2.csv', 'w', newline='', encoding='utf-8') as csvfile:\n",
    "    writer = csv.DictWriter(csvfile, fieldnames=['Text', 'Author', 'Tags'])\n",
    "    writer.writeheader()\n",
    "    writer.writerows(quotes)"
   ]
  },
  {
   "cell_type": "code",
   "execution_count": null,
   "id": "808e081c",
   "metadata": {},
   "outputs": [],
   "source": []
  }
 ],
 "metadata": {
  "kernelspec": {
   "display_name": "Python 3 (ipykernel)",
   "language": "python",
   "name": "python3"
  },
  "language_info": {
   "codemirror_mode": {
    "name": "ipython",
    "version": 3
   },
   "file_extension": ".py",
   "mimetype": "text/x-python",
   "name": "python",
   "nbconvert_exporter": "python",
   "pygments_lexer": "ipython3",
   "version": "3.11.5"
  }
 },
 "nbformat": 4,
 "nbformat_minor": 5
}
