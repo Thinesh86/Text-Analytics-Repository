{
 "cells": [
  {
   "cell_type": "code",
   "execution_count": 1,
   "id": "87b8bf67",
   "metadata": {},
   "outputs": [],
   "source": [
    "import re "
   ]
  },
  {
   "cell_type": "code",
   "execution_count": 2,
   "id": "1dd517a0",
   "metadata": {},
   "outputs": [],
   "source": [
    "sentence1 = re.match (r'I', 'I am learning text analytics') "
   ]
  },
  {
   "cell_type": "code",
   "execution_count": 3,
   "id": "ceaf629e",
   "metadata": {},
   "outputs": [
    {
     "name": "stdout",
     "output_type": "stream",
     "text": [
      "<re.Match object; span=(0, 1), match='I'>\n"
     ]
    }
   ],
   "source": [
    "print (sentence1) "
   ]
  },
  {
   "cell_type": "code",
   "execution_count": 4,
   "id": "2a06c0f0",
   "metadata": {},
   "outputs": [],
   "source": [
    "sentence2 = re.match (r'v', 'I am learning text analytics')"
   ]
  },
  {
   "cell_type": "code",
   "execution_count": 5,
   "id": "0b6e24f9",
   "metadata": {},
   "outputs": [
    {
     "name": "stdout",
     "output_type": "stream",
     "text": [
      "None\n"
     ]
    }
   ],
   "source": [
    "print (sentence2) "
   ]
  },
  {
   "cell_type": "code",
   "execution_count": 6,
   "id": "36524511",
   "metadata": {},
   "outputs": [],
   "source": [
    "sentence3 = re.match (r'am', 'I am learning text analytics')"
   ]
  },
  {
   "cell_type": "code",
   "execution_count": 7,
   "id": "840e6f0a",
   "metadata": {},
   "outputs": [
    {
     "name": "stdout",
     "output_type": "stream",
     "text": [
      "None\n"
     ]
    }
   ],
   "source": [
    "print (sentence3) "
   ]
  },
  {
   "cell_type": "code",
   "execution_count": 8,
   "id": "90111de6",
   "metadata": {},
   "outputs": [],
   "source": [
    "sentence4 = re.search(r'am', 'I am learning text analytics')"
   ]
  },
  {
   "cell_type": "code",
   "execution_count": 9,
   "id": "22559205",
   "metadata": {},
   "outputs": [
    {
     "name": "stdout",
     "output_type": "stream",
     "text": [
      "<re.Match object; span=(2, 4), match='am'>\n"
     ]
    }
   ],
   "source": [
    "print (sentence4)  "
   ]
  },
  {
   "cell_type": "code",
   "execution_count": 10,
   "id": "980122d7",
   "metadata": {},
   "outputs": [],
   "source": [
    "sentence5 = re.search(r'am', 'I am learning text analytics and am enjoying it')  "
   ]
  },
  {
   "cell_type": "code",
   "execution_count": 11,
   "id": "55d8cbd2",
   "metadata": {},
   "outputs": [
    {
     "name": "stdout",
     "output_type": "stream",
     "text": [
      "<re.Match object; span=(2, 4), match='am'>\n"
     ]
    }
   ],
   "source": [
    "print (sentence5)  "
   ]
  },
  {
   "cell_type": "code",
   "execution_count": 12,
   "id": "316e6dab",
   "metadata": {},
   "outputs": [],
   "source": [
    "sentence6 = re.findall(r'am', 'I am learning text analytics and am enjoying it')  "
   ]
  },
  {
   "cell_type": "code",
   "execution_count": 13,
   "id": "1aea26c6",
   "metadata": {},
   "outputs": [
    {
     "name": "stdout",
     "output_type": "stream",
     "text": [
      "['am', 'am']\n"
     ]
    }
   ],
   "source": [
    "print (sentence6)  "
   ]
  },
  {
   "cell_type": "code",
   "execution_count": 14,
   "id": "94c887d3",
   "metadata": {},
   "outputs": [],
   "source": [
    "sentence7 = re.split(r'and', 'I am learning text analytics and am enjoying it')  "
   ]
  },
  {
   "cell_type": "code",
   "execution_count": 15,
   "id": "9ed4f5cf",
   "metadata": {},
   "outputs": [
    {
     "name": "stdout",
     "output_type": "stream",
     "text": [
      "['I am learning text analytics ', ' am enjoying it']\n"
     ]
    }
   ],
   "source": [
    "print (sentence7)  "
   ]
  },
  {
   "cell_type": "code",
   "execution_count": 16,
   "id": "708cd7d2",
   "metadata": {},
   "outputs": [],
   "source": [
    "sentence8 = re.split(r'am', 'I am learning text analytics and am enjoying it')  "
   ]
  },
  {
   "cell_type": "code",
   "execution_count": 17,
   "id": "0b5c546f",
   "metadata": {},
   "outputs": [
    {
     "name": "stdout",
     "output_type": "stream",
     "text": [
      "['I ', ' learning text analytics and ', ' enjoying it']\n"
     ]
    }
   ],
   "source": [
    "print (sentence8)  "
   ]
  },
  {
   "cell_type": "code",
   "execution_count": 18,
   "id": "4a0ec46f",
   "metadata": {},
   "outputs": [],
   "source": [
    "sentence9 = re.split(r'am', 'I am learning text analytics and am enjoying it', maxsplit=1) "
   ]
  },
  {
   "cell_type": "code",
   "execution_count": 19,
   "id": "5cc8cc84",
   "metadata": {},
   "outputs": [
    {
     "name": "stdout",
     "output_type": "stream",
     "text": [
      "['I ', ' learning text analytics and am enjoying it']\n"
     ]
    }
   ],
   "source": [
    "print (sentence9)"
   ]
  },
  {
   "cell_type": "code",
   "execution_count": 20,
   "id": "f2f31de8",
   "metadata": {},
   "outputs": [],
   "source": [
    "sentence9 = re.split(r'am', 'I am learning text analytics and am enjoying it', maxsplit=2) "
   ]
  },
  {
   "cell_type": "code",
   "execution_count": 21,
   "id": "c9789037",
   "metadata": {},
   "outputs": [
    {
     "name": "stdout",
     "output_type": "stream",
     "text": [
      "['I ', ' learning text analytics and ', ' enjoying it']\n"
     ]
    }
   ],
   "source": [
    "print (sentence9)"
   ]
  },
  {
   "cell_type": "code",
   "execution_count": 22,
   "id": "f3aed9e6",
   "metadata": {},
   "outputs": [],
   "source": [
    "sentence10 = re.split(r'am', 'I am learning text analytics, I am enjoying it and I am going to ace it', maxsplit=3) "
   ]
  },
  {
   "cell_type": "code",
   "execution_count": 23,
   "id": "6655b087",
   "metadata": {},
   "outputs": [
    {
     "name": "stdout",
     "output_type": "stream",
     "text": [
      "['I ', ' learning text analytics, I ', ' enjoying it and I ', ' going to ace it']\n"
     ]
    }
   ],
   "source": [
    "print (sentence10)  "
   ]
  },
  {
   "cell_type": "code",
   "execution_count": 24,
   "id": "81f91cbc",
   "metadata": {},
   "outputs": [],
   "source": [
    "sentence11 = re.sub(r'I', 'we', 'I like text analytics and I enjoy learning it') "
   ]
  },
  {
   "cell_type": "code",
   "execution_count": 25,
   "id": "591d19cc",
   "metadata": {},
   "outputs": [
    {
     "name": "stdout",
     "output_type": "stream",
     "text": [
      "we like text analytics and we enjoy learning it\n"
     ]
    }
   ],
   "source": [
    "print (sentence11)"
   ]
  },
  {
   "cell_type": "code",
   "execution_count": null,
   "id": "3570c89c",
   "metadata": {},
   "outputs": [],
   "source": []
  }
 ],
 "metadata": {
  "kernelspec": {
   "display_name": "Python 3 (ipykernel)",
   "language": "python",
   "name": "python3"
  },
  "language_info": {
   "codemirror_mode": {
    "name": "ipython",
    "version": 3
   },
   "file_extension": ".py",
   "mimetype": "text/x-python",
   "name": "python",
   "nbconvert_exporter": "python",
   "pygments_lexer": "ipython3",
   "version": "3.11.5"
  }
 },
 "nbformat": 4,
 "nbformat_minor": 5
}
