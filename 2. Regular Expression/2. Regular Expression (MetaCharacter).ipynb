{
 "cells": [
  {
   "cell_type": "code",
   "execution_count": 1,
   "id": "cd0dd923",
   "metadata": {},
   "outputs": [],
   "source": [
    "import re"
   ]
  },
  {
   "cell_type": "code",
   "execution_count": 2,
   "id": "c52040f2",
   "metadata": {},
   "outputs": [],
   "source": [
    "sentence1 = re.findall (r'.', 'I am learning text analytics') "
   ]
  },
  {
   "cell_type": "code",
   "execution_count": 3,
   "id": "2480915f",
   "metadata": {},
   "outputs": [
    {
     "name": "stdout",
     "output_type": "stream",
     "text": [
      "['I', ' ', 'a', 'm', ' ', 'l', 'e', 'a', 'r', 'n', 'i', 'n', 'g', ' ', 't', 'e', 'x', 't', ' ', 'a', 'n', 'a', 'l', 'y', 't', 'i', 'c', 's']\n"
     ]
    }
   ],
   "source": [
    "print (sentence1) "
   ]
  },
  {
   "cell_type": "code",
   "execution_count": 4,
   "id": "42fbf7d2",
   "metadata": {},
   "outputs": [],
   "source": [
    "sentence2 = re.findall (r'\\w', 'I am learning text analytics') "
   ]
  },
  {
   "cell_type": "code",
   "execution_count": 5,
   "id": "8a52d6fd",
   "metadata": {},
   "outputs": [
    {
     "name": "stdout",
     "output_type": "stream",
     "text": [
      "['I', 'a', 'm', 'l', 'e', 'a', 'r', 'n', 'i', 'n', 'g', 't', 'e', 'x', 't', 'a', 'n', 'a', 'l', 'y', 't', 'i', 'c', 's']\n"
     ]
    }
   ],
   "source": [
    "print (sentence2) "
   ]
  },
  {
   "cell_type": "code",
   "execution_count": 6,
   "id": "657ab34f",
   "metadata": {},
   "outputs": [],
   "source": [
    "sentence3 = re.findall (r'\\w*', 'I am learning text analytics') "
   ]
  },
  {
   "cell_type": "code",
   "execution_count": 7,
   "id": "b9db6052",
   "metadata": {},
   "outputs": [
    {
     "name": "stdout",
     "output_type": "stream",
     "text": [
      "['I', '', 'am', '', 'learning', '', 'text', '', 'analytics', '']\n"
     ]
    }
   ],
   "source": [
    "print (sentence3) "
   ]
  },
  {
   "cell_type": "code",
   "execution_count": 8,
   "id": "b6488925",
   "metadata": {},
   "outputs": [],
   "source": [
    "sentence4 = re.findall (r'\\w+', 'I am learning text analytics') "
   ]
  },
  {
   "cell_type": "code",
   "execution_count": 9,
   "id": "db0ac722",
   "metadata": {},
   "outputs": [
    {
     "name": "stdout",
     "output_type": "stream",
     "text": [
      "['I', 'am', 'learning', 'text', 'analytics']\n"
     ]
    }
   ],
   "source": [
    "print (sentence4) "
   ]
  },
  {
   "cell_type": "code",
   "execution_count": 10,
   "id": "b3c530a2",
   "metadata": {},
   "outputs": [],
   "source": [
    "sentence5 = re.findall (r'^\\w+', 'I am learning text analytics') "
   ]
  },
  {
   "cell_type": "code",
   "execution_count": 11,
   "id": "04b642bf",
   "metadata": {},
   "outputs": [
    {
     "name": "stdout",
     "output_type": "stream",
     "text": [
      "['I']\n"
     ]
    }
   ],
   "source": [
    "print (sentence5) "
   ]
  },
  {
   "cell_type": "code",
   "execution_count": 12,
   "id": "12e98a83",
   "metadata": {},
   "outputs": [],
   "source": [
    "sentence6 = re.findall (r'\\w+$', 'I am learning text analytics') "
   ]
  },
  {
   "cell_type": "code",
   "execution_count": 13,
   "id": "48a8d300",
   "metadata": {},
   "outputs": [
    {
     "name": "stdout",
     "output_type": "stream",
     "text": [
      "['analytics']\n"
     ]
    }
   ],
   "source": [
    "print (sentence6) "
   ]
  },
  {
   "cell_type": "code",
   "execution_count": 14,
   "id": "96f1a345",
   "metadata": {},
   "outputs": [],
   "source": [
    "sentence7 = re.findall (r'\\w\\w', 'I am learning text analytics')"
   ]
  },
  {
   "cell_type": "code",
   "execution_count": 15,
   "id": "6f8892bf",
   "metadata": {},
   "outputs": [
    {
     "name": "stdout",
     "output_type": "stream",
     "text": [
      "['am', 'le', 'ar', 'ni', 'ng', 'te', 'xt', 'an', 'al', 'yt', 'ic']\n"
     ]
    }
   ],
   "source": [
    "print (sentence7) "
   ]
  },
  {
   "cell_type": "code",
   "execution_count": 16,
   "id": "b2904aa9",
   "metadata": {},
   "outputs": [],
   "source": [
    "sentence8 = re.findall (r'\\b\\w\\w', 'I am learning text analytics')"
   ]
  },
  {
   "cell_type": "code",
   "execution_count": 17,
   "id": "b25f04fa",
   "metadata": {},
   "outputs": [
    {
     "name": "stdout",
     "output_type": "stream",
     "text": [
      "['am', 'le', 'te', 'an']\n"
     ]
    }
   ],
   "source": [
    "print (sentence8) "
   ]
  },
  {
   "cell_type": "code",
   "execution_count": 18,
   "id": "981071c9",
   "metadata": {},
   "outputs": [],
   "source": [
    "sentence9 = re.findall (r'@\\w+', 'user@text.com.my, user@analytics.gov.my, user@textanalytics.edu.my')"
   ]
  },
  {
   "cell_type": "code",
   "execution_count": 19,
   "id": "2425fab1",
   "metadata": {},
   "outputs": [
    {
     "name": "stdout",
     "output_type": "stream",
     "text": [
      "['@text', '@analytics', '@textanalytics']\n"
     ]
    }
   ],
   "source": [
    "print (sentence9) "
   ]
  },
  {
   "cell_type": "code",
   "execution_count": 20,
   "id": "aa354205",
   "metadata": {},
   "outputs": [],
   "source": [
    "sentence10 = re.findall (r'@\\w+.\\w+','user@text.com.my, user@analytics.gov.my, user@textanalytics.edu.my')"
   ]
  },
  {
   "cell_type": "code",
   "execution_count": 21,
   "id": "42449481",
   "metadata": {},
   "outputs": [
    {
     "name": "stdout",
     "output_type": "stream",
     "text": [
      "['@text.com', '@analytics.gov', '@textanalytics.edu']\n"
     ]
    }
   ],
   "source": [
    "print (sentence10)"
   ]
  },
  {
   "cell_type": "code",
   "execution_count": 22,
   "id": "dfc6a843",
   "metadata": {},
   "outputs": [],
   "source": [
    "sentence11 = re.findall (r'@\\w+.\\w+.\\w+', 'user@text.com.my, user@analytics.gov.my, user@textanalytics.edu.my')"
   ]
  },
  {
   "cell_type": "code",
   "execution_count": 23,
   "id": "9a66047f",
   "metadata": {},
   "outputs": [
    {
     "name": "stdout",
     "output_type": "stream",
     "text": [
      "['@text.com.my', '@analytics.gov.my', '@textanalytics.edu.my']\n"
     ]
    }
   ],
   "source": [
    "print (sentence11) "
   ]
  },
  {
   "cell_type": "code",
   "execution_count": 24,
   "id": "6f7befe6",
   "metadata": {},
   "outputs": [
    {
     "ename": "SyntaxError",
     "evalue": "unterminated string literal (detected at line 1) (2869811927.py, line 1)",
     "output_type": "error",
     "traceback": [
      "\u001b[1;36m  Cell \u001b[1;32mIn[24], line 1\u001b[1;36m\u001b[0m\n\u001b[1;33m    sentence12 = re.findall (r'@\\w+.(\\w+.\\w+)', 'user@text.com.my, user@analytics.gov.my, u\u001b[0m\n\u001b[1;37m                                                ^\u001b[0m\n\u001b[1;31mSyntaxError\u001b[0m\u001b[1;31m:\u001b[0m unterminated string literal (detected at line 1)\n"
     ]
    }
   ],
   "source": [
    "sentence12 = re.findall (r'@\\w+.(\\w+.\\w+)', 'user@text.com.my, user@analytics.gov.my, u "
   ]
  },
  {
   "cell_type": "code",
   "execution_count": 25,
   "id": "6d32c473",
   "metadata": {},
   "outputs": [],
   "source": [
    "sentence12 = re.findall (r'@\\w+.(\\w+.\\w+)', 'user@text.com.my, user@analytics.gov.my, u')"
   ]
  },
  {
   "cell_type": "code",
   "execution_count": 26,
   "id": "71d7dd3b",
   "metadata": {},
   "outputs": [
    {
     "name": "stdout",
     "output_type": "stream",
     "text": [
      "['com.my', 'gov.my']\n"
     ]
    }
   ],
   "source": [
    "print (sentence12)"
   ]
  },
  {
   "cell_type": "code",
   "execution_count": 3,
   "id": "ec8b759c",
   "metadata": {},
   "outputs": [],
   "source": [
    "import re"
   ]
  },
  {
   "cell_type": "code",
   "execution_count": 4,
   "id": "7c0c476d",
   "metadata": {},
   "outputs": [],
   "source": [
    "sentence13 = re.findall (r'\\d{2}-\\d{2}-\\d{2}', 'Ahmad BIT(IS) 15-05-2001, Johnny BCS(SE) 20-08-2000')"
   ]
  },
  {
   "cell_type": "code",
   "execution_count": 5,
   "id": "81d40bba",
   "metadata": {},
   "outputs": [
    {
     "name": "stdout",
     "output_type": "stream",
     "text": [
      "['15-05-20', '20-08-20']\n"
     ]
    }
   ],
   "source": [
    "print (sentence13)"
   ]
  },
  {
   "cell_type": "code",
   "execution_count": 6,
   "id": "24f752fe",
   "metadata": {},
   "outputs": [],
   "source": [
    "sentence14 = re.findall (r'\\d{2}-\\d{2}-\\d{4}', 'Ahmad BIT(IS) 15-05-2001, Johnny BCS(SE) 20-08-2000')"
   ]
  },
  {
   "cell_type": "code",
   "execution_count": 7,
   "id": "f9205481",
   "metadata": {},
   "outputs": [
    {
     "name": "stdout",
     "output_type": "stream",
     "text": [
      "['15-05-2001', '20-08-2000']\n"
     ]
    }
   ],
   "source": [
    "print (sentence14) "
   ]
  },
  {
   "cell_type": "code",
   "execution_count": 8,
   "id": "5b6e42f4",
   "metadata": {},
   "outputs": [],
   "source": [
    "sentence15 = re.findall (r'\\d{2}-\\d{2}-(\\d{4})', 'Ahmad BIT(IS) 15-05-2001, Johnny BCS(SE) 20-08-2000')"
   ]
  },
  {
   "cell_type": "code",
   "execution_count": 9,
   "id": "8b1fdda4",
   "metadata": {},
   "outputs": [
    {
     "name": "stdout",
     "output_type": "stream",
     "text": [
      "['2001', '2000']\n"
     ]
    }
   ],
   "source": [
    "print (sentence15)"
   ]
  },
  {
   "cell_type": "code",
   "execution_count": 10,
   "id": "813020e3",
   "metadata": {},
   "outputs": [],
   "source": [
    "sentence16 = re.findall (r'[aeiouAEIOU]\\w+', 'I have eight story books. I often read them in afternoon')"
   ]
  },
  {
   "cell_type": "code",
   "execution_count": 11,
   "id": "59c725ce",
   "metadata": {},
   "outputs": [
    {
     "name": "stdout",
     "output_type": "stream",
     "text": [
      "['ave', 'eight', 'ory', 'ooks', 'often', 'ead', 'em', 'in', 'afternoon']\n"
     ]
    }
   ],
   "source": [
    "print (sentence16)"
   ]
  },
  {
   "cell_type": "code",
   "execution_count": 12,
   "id": "cc50df3f",
   "metadata": {},
   "outputs": [],
   "source": [
    "sentence17 = re.findall (r'\\b[aeiouAEIOU]\\w+', 'I have eight story books. I often read them in afternoon')"
   ]
  },
  {
   "cell_type": "code",
   "execution_count": 13,
   "id": "43198b99",
   "metadata": {},
   "outputs": [
    {
     "name": "stdout",
     "output_type": "stream",
     "text": [
      "['eight', 'often', 'in', 'afternoon']\n"
     ]
    }
   ],
   "source": [
    "print (sentence17)"
   ]
  },
  {
   "cell_type": "code",
   "execution_count": 14,
   "id": "c00b34b9",
   "metadata": {},
   "outputs": [],
   "source": [
    "sentence18 = re.findall (r'\\b[^aeiouAEIOU\\s]\\w+', 'I have eight story books. I often read them in afternoon')"
   ]
  },
  {
   "cell_type": "code",
   "execution_count": 15,
   "id": "8a3563c7",
   "metadata": {},
   "outputs": [
    {
     "name": "stdout",
     "output_type": "stream",
     "text": [
      "['have', 'story', 'books', 'read', 'them']\n"
     ]
    }
   ],
   "source": [
    "print (sentence18)"
   ]
  },
  {
   "cell_type": "code",
   "execution_count": 16,
   "id": "23f62a19",
   "metadata": {},
   "outputs": [],
   "source": [
    "sentence19 = re.split (r'[;,]', 'I have many story books, colouring books; I often read them in the afternoon.')"
   ]
  },
  {
   "cell_type": "code",
   "execution_count": 17,
   "id": "90d40e14",
   "metadata": {},
   "outputs": [
    {
     "name": "stdout",
     "output_type": "stream",
     "text": [
      "['I have many story books', ' colouring books', ' I often read them in the afternoon.']\n"
     ]
    }
   ],
   "source": [
    "print (sentence19)"
   ]
  },
  {
   "cell_type": "code",
   "execution_count": 18,
   "id": "a594e6fa",
   "metadata": {},
   "outputs": [],
   "source": [
    "sentence20 = re.split (r'[;,\\s]', 'I have many story books, colouring books; I often read them in the afternoon.')"
   ]
  },
  {
   "cell_type": "code",
   "execution_count": 19,
   "id": "01620842",
   "metadata": {},
   "outputs": [
    {
     "name": "stdout",
     "output_type": "stream",
     "text": [
      "['I', 'have', 'many', 'story', 'books', '', 'colouring', 'books', '', 'I', 'often', 'read', 'them', 'in', 'the', 'afternoon.']\n"
     ]
    }
   ],
   "source": [
    "print (sentence20)"
   ]
  },
  {
   "cell_type": "code",
   "execution_count": 20,
   "id": "e79d3885",
   "metadata": {},
   "outputs": [],
   "source": [
    "sentence21 = re.sub (r'[;,]', '.', 'I have many story books, colouring books; I often read them in the afternoon.')"
   ]
  },
  {
   "cell_type": "code",
   "execution_count": 21,
   "id": "289876c2",
   "metadata": {},
   "outputs": [
    {
     "name": "stdout",
     "output_type": "stream",
     "text": [
      "I have many story books. colouring books. I often read them in the afternoon.\n"
     ]
    }
   ],
   "source": [
    "print (sentence21)"
   ]
  },
  {
   "cell_type": "code",
   "execution_count": null,
   "id": "c7a8013e",
   "metadata": {},
   "outputs": [],
   "source": []
  }
 ],
 "metadata": {
  "kernelspec": {
   "display_name": "Python 3 (ipykernel)",
   "language": "python",
   "name": "python3"
  },
  "language_info": {
   "codemirror_mode": {
    "name": "ipython",
    "version": 3
   },
   "file_extension": ".py",
   "mimetype": "text/x-python",
   "name": "python",
   "nbconvert_exporter": "python",
   "pygments_lexer": "ipython3",
   "version": "3.11.5"
  }
 },
 "nbformat": 4,
 "nbformat_minor": 5
}
