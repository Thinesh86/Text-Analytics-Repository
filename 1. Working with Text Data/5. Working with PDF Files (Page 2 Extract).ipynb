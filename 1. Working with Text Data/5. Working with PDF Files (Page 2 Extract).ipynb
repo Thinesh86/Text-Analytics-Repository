{
 "cells": [
  {
   "cell_type": "code",
   "execution_count": 1,
   "id": "5d17bee2",
   "metadata": {},
   "outputs": [],
   "source": [
    "import PyPDF2"
   ]
  },
  {
   "cell_type": "code",
   "execution_count": 2,
   "id": "6e91af71",
   "metadata": {},
   "outputs": [],
   "source": [
    "f = open('Business_Proposal.pdf','rb')"
   ]
  },
  {
   "cell_type": "code",
   "execution_count": 3,
   "id": "3419f2a6",
   "metadata": {},
   "outputs": [],
   "source": [
    "pdf_reader = PyPDF2.PdfReader(f)"
   ]
  },
  {
   "cell_type": "code",
   "execution_count": 4,
   "id": "fb6cc252",
   "metadata": {},
   "outputs": [
    {
     "data": {
      "text/plain": [
       "2"
      ]
     },
     "execution_count": 4,
     "metadata": {},
     "output_type": "execute_result"
    }
   ],
   "source": [
    "len(pdf_reader.pages)"
   ]
  },
  {
   "cell_type": "code",
   "execution_count": 5,
   "id": "db485dc5",
   "metadata": {},
   "outputs": [],
   "source": [
    "page_two = pdf_reader.pages[1]"
   ]
  },
  {
   "cell_type": "code",
   "execution_count": 6,
   "id": "45f65694",
   "metadata": {},
   "outputs": [],
   "source": [
    "page_two_text = page_two.extract_text()"
   ]
  },
  {
   "cell_type": "code",
   "execution_count": 7,
   "id": "5c0cd105",
   "metadata": {},
   "outputs": [
    {
     "data": {
      "text/plain": [
       "'AUTHORS:  \\nAmy Baker, Finance Chair, x345, abaker@ourcompany.com  \\nChris Donaldson, Accounting Dir., x621, cdonaldson@ourcompany.com  \\nErin Freeman, Sr. VP, x879, efreeman@ourcompany.com  '"
      ]
     },
     "execution_count": 7,
     "metadata": {},
     "output_type": "execute_result"
    }
   ],
   "source": [
    "page_two_text"
   ]
  },
  {
   "cell_type": "code",
   "execution_count": null,
   "id": "60a9f2ee",
   "metadata": {},
   "outputs": [],
   "source": []
  }
 ],
 "metadata": {
  "kernelspec": {
   "display_name": "Python 3 (ipykernel)",
   "language": "python",
   "name": "python3"
  },
  "language_info": {
   "codemirror_mode": {
    "name": "ipython",
    "version": 3
   },
   "file_extension": ".py",
   "mimetype": "text/x-python",
   "name": "python",
   "nbconvert_exporter": "python",
   "pygments_lexer": "ipython3",
   "version": "3.11.5"
  }
 },
 "nbformat": 4,
 "nbformat_minor": 5
}
